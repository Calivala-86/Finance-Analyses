{
 "cells": [
  {
   "cell_type": "markdown",
   "id": "12649c8e",
   "metadata": {},
   "source": [
    "Simulating future index level in Black-Scholes-Merton setup"
   ]
  },
  {
   "cell_type": "code",
   "execution_count": 2,
   "id": "b7f118ff",
   "metadata": {},
   "outputs": [],
   "source": [
    "#import libs\n",
    "import numpy as np\n",
    "import numpy.random as npr\n",
    "import matplotlib.pyplot as plt \n",
    "%matplotlib inline"
   ]
  },
  {
   "cell_type": "code",
   "execution_count": 3,
   "id": "6312e9f5",
   "metadata": {},
   "outputs": [],
   "source": [
    "S0 = 100 # initial value\n",
    "r = 0.05 # constant short rate\n",
    "sigma = 0.25 # constant volatility\n",
    "T = 2.0 # in years\n",
    "I = 10000 # number of random draws \n",
    "ST1=S0*np.exp((r-0.5*sigma**2)*T\n",
    "        + sigma * np.sqrt(T) * npr.standard_normal(I))"
   ]
  },
  {
   "cell_type": "code",
   "execution_count": 4,
   "id": "e8af7dbc",
   "metadata": {},
   "outputs": [
    {
     "data": {
      "image/png": "[encoded data removed]",
      "text/plain": [
       "<Figure size 432x288 with 1 Axes>"
      ]
     },
     "metadata": {
      "needs_background": "light"
     },
     "output_type": "display_data"
    }
   ],
   "source": [
    "# Simulated geometric Brownian motion (via standard_normal)\n",
    "plt.hist(ST1, bins=50)\n",
    "plt.xlabel('index level')\n",
    "plt.ylabel('frequency') \n",
    "plt.grid(True)"
   ]
  },
  {
   "cell_type": "code",
   "execution_count": null,
   "id": "8548d4c0",
   "metadata": {},
   "outputs": [],
   "source": []
  }
 ],
 "metadata": {
  "kernelspec": {
   "display_name": "Python 3 (ipykernel)",
   "language": "python",
   "name": "python3"
  },
  "language_info": {
   "codemirror_mode": {
    "name": "ipython",
    "version": 3
   },
   "file_extension": ".py",
   "mimetype": "text/x-python",
   "name": "python",
   "nbconvert_exporter": "python",
   "pygments_lexer": "ipython3",
   "version": "3.9.7"
  }
 },
 "nbformat": 4,
 "nbformat_minor": 5
}
