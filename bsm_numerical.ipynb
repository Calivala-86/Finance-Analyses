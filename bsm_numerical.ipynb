{
 "cells": [
  {
   "cell_type": "markdown",
   "id": "2e32b0fb",
   "metadata": {},
   "source": [
    "**Implied volatilities**\n",
    "\n",
    "Option quotes for certain maturity dates are taken to back out the implied volatil‐ ities of these options and to plot them—a task option traders and risk managers, among others, are faced with on a daily basis.\n",
    "\n",
    "**Monte Carlo simulation**\n",
    "\n",
    "The evolution of a stock index over time is simulated via Monte Carlo techniques, selected results are visualized, and European option values are calculated. Monte Carlo simulation is a cornerstone for numerical option pricing as well as for risk management efforts involving value-at-risk calculations or credit value adjustments.\n",
    "\n"
   ]
  },
  {
   "cell_type": "markdown",
   "id": "10ec3555",
   "metadata": {},
   "source": [
    "The financial and numerical tools needed are now complete—even if only roughly de‐ scribed—and we can have a look into the respective Python code that assumes the special case t = 0 "
   ]
  },
  {
   "cell_type": "code",
   "execution_count": 60,
   "id": "d1081c02",
   "metadata": {},
   "outputs": [],
   "source": [
    "from math import log, sqrt, exp \n",
    "from scipy import stats\n",
    "\n",
    "import math\n",
    "from numpy import *\n",
    "import numpy.random as npr\n",
    "from random import gauss, seed\n",
    "from time import time\n",
    "\n",
    "\n",
    "import matplotlib.pyplot as plt \n",
    "%matplotlib inline"
   ]
  },
  {
   "cell_type": "markdown",
   "id": "e05de1d7",
   "metadata": {},
   "source": [
    "# Implied Volatilities"
   ]
  },
  {
   "cell_type": "code",
   "execution_count": 61,
   "id": "f5b2f30e",
   "metadata": {},
   "outputs": [],
   "source": [
    "#\n",
    "# Valuation of European call options in Black-Scholes-Merton model\n",
    "# incl. Vega function and implied volatility estimation\n",
    "# bsm_functions.py #\n",
    "# Analytical Black-Scholes-Merton (BSM) Formula"
   ]
  },
  {
   "cell_type": "code",
   "execution_count": 62,
   "id": "0fdc3ddf",
   "metadata": {},
   "outputs": [],
   "source": [
    "# Analytical Black-Scholes-Merton (BSM) Formula\n",
    "def bsm_call_value(S0, K, T, r, sigma):\n",
    "    ''' Valuation of European call option in BSM model. Analytical formula.\n",
    "    Parameters\n",
    "    ==========\n",
    "    S0 : float\n",
    "        initial stock/index level\n",
    "    K : float\n",
    "        strike price\n",
    "    T : float\n",
    "        maturity date (in year fractions)\n",
    "    r : float\n",
    "        constant risk-free short rate \n",
    "    sigma : float\n",
    "        volatility factor in diffusion term\n",
    "        \n",
    "    Returns\n",
    "    =======\n",
    "    value : float\n",
    "        present value of the European call option\n",
    "    '''\n",
    "   \n",
    "    S0 = float(S0) \n",
    "    d1=(log(S0/K)+(r+0.5*sigma**2)*T)/(sigma*sqrt(T)) \n",
    "    d2=(log(S0/K)+(r-0.5*sigma**2)*T)/(sigma*sqrt(T)) \n",
    "    value = (S0 * stats.norm.cdf(d1, 0.0, 1.0)\n",
    "            - K * exp(-r * T) * stats.norm.cdf(d2, 0.0, 1.0)) \n",
    "    # stats.norm.cdf --> cumulative distribution function\n",
    "    #                    for normal distribution\n",
    "    return value"
   ]
  },
  {
   "cell_type": "code",
   "execution_count": 63,
   "id": "f8555877",
   "metadata": {},
   "outputs": [],
   "source": [
    "# Vega function\n",
    "def bsm_vega(S0, K, T, r, sigma):\n",
    "    ''' Vega of European option in BSM model.\n",
    "    \n",
    "    Parameters\n",
    "    ==========\n",
    "    S0 : float\n",
    "        initial stock/index level\n",
    "    K : float\n",
    "        strike price\n",
    "    T : float\n",
    "        maturity date (in year fractions)\n",
    "    r : float\n",
    "        constant risk-free short rate \n",
    "    sigma : float\n",
    "        volatility factor in diffusion term\n",
    "        \n",
    "    Returns\n",
    "    =======\n",
    "    vega : float\n",
    "        partial derivative of BSM formula with \n",
    "        respect to sigma, i.e. Vega\n",
    "        \n",
    "        \n",
    "    '''\n",
    "    \n",
    "    S0 = float(S0) \n",
    "    d1=(log(S0/K)+(r+0.5*sigma**2)*T/(sigma*sqrt(T)))\n",
    "    vega = S0 * stats.norm.cdf(d1, 0.0, 1.0) * sqrt(T)\n",
    "    return vega"
   ]
  },
  {
   "cell_type": "code",
   "execution_count": 64,
   "id": "d0a8197c",
   "metadata": {},
   "outputs": [],
   "source": [
    "\n",
    "def bsm_call_imp_vol(S0, K, T, r, C0, sigma_est, it=100):\n",
    "    ''' Implied volatility of European call option in BSM model.\n",
    "    Parameters\n",
    "    ==========\n",
    "    S0 : float\n",
    "        initial stock/index level\n",
    "    K : float\n",
    "        strike price\n",
    "    T : float\n",
    "        maturity date (in year fractions)\n",
    "    r : float\n",
    "        constant risk-free short rate \n",
    "    sigma_est : float\n",
    "        estimate of impl. volatility \n",
    "    it : integer\n",
    "        number of iterations\n",
    "    Returns\n",
    "    ======= \n",
    "    simga_est : float\n",
    "        numerically estimated implied volatility\n",
    "    '''\n",
    "    for i in range(it):\n",
    "        sigma_est -= ((bsm_call_value(S0, K, T, r, sigma_est) - C0)\n",
    "                        / bsm_vega(S0, K, T, r, sigma_est))\n",
    "    return sigma_est    \n"
   ]
  },
  {
   "cell_type": "code",
   "execution_count": 65,
   "id": "0ab40e1e",
   "metadata": {},
   "outputs": [
    {
     "name": "stdout",
     "output_type": "stream",
     "text": [
      "European Option Value   7.999\n",
      "Duration in Seconds  84.921\n"
     ]
    }
   ],
   "source": [
    "seed(20000) \n",
    "t0 = time()\n",
    "\n",
    "# Parameters\n",
    "S0 = 100. # initial value\n",
    "K = 105. # strike price\n",
    "T = 1.0 # maturity\n",
    "r = 0.05 # riskless short rate \n",
    "sigma = 0.2 # volatility\n",
    "M = 50 # number of time steps\n",
    "dt = T / M # length of time interval \n",
    "I = 250000 # number of paths\n",
    "\n",
    "# Simulating I paths with M time steps\n",
    "S=[]\n",
    "for i in range(I):\n",
    "    path = []\n",
    "    for t in range(M + 1):\n",
    "        if t==0: \n",
    "            path.append(S0)\n",
    "        else:\n",
    "            z = gauss(0.0, 1.0) \n",
    "            St=path[t-1]*exp((r-0.5*sigma**2)*dt\n",
    "                                  + sigma * sqrt(dt) * z)\n",
    "            path.append(St) \n",
    "    S.append(path)\n",
    "    \n",
    "# Calculating the Monte Carlo estimator\n",
    "C0 = exp(-r * T) * sum([max(path[-1] - K, 0) for path in S]) / I\n",
    "\n",
    "# Results output\n",
    "tpy = time() - t0\n",
    "print(\"European Option Value %7.3f\" % C0)\n",
    "print(\"Duration in Seconds %7.3f\" % tpy)"
   ]
  },
  {
   "cell_type": "code",
   "execution_count": 66,
   "id": "4b78de9f",
   "metadata": {},
   "outputs": [
    {
     "name": "stdout",
     "output_type": "stream",
     "text": [
      "European Option Value   8.166\n",
      "Duration in Seconds   1.842\n"
     ]
    }
   ],
   "source": [
    "#\n",
    "# Monte Carlo valuation of European call options with NumPy (log version) \n",
    "# mcs_full_vector_numpy.py\n",
    "#\n",
    "  # star import for shorter code\n",
    "np.random.seed(20000) \n",
    "t0 = time()\n",
    "\n",
    "# Parameters\n",
    "S0=100.;K=105.;T=1.0;r=0.05;sigma=0.2 \n",
    "M=50;dt=T/M;I=250000\n",
    "\n",
    "# Simulating I paths with M time steps\n",
    "S=S0*exp(cumsum((r-0.5*sigma**2)*dt \n",
    "                + sigma * math.sqrt(dt)\n",
    "                    * random.standard_normal((M + 1, I)), axis=0)) \n",
    "# sum instead of cumsum would also do\n",
    "  # if only the final values are of interest\n",
    "S[0] = S0\n",
    "\n",
    "# Calculating the Monte Carlo estimator\n",
    "C0 = math.exp(-r * T) * sum(maximum(S[-1] - K, 0)) / I\n",
    "\n",
    "# Results output\n",
    "tnp2 = time() - t0\n",
    "print(\"European Option Value %7.3f\" % C0)\n",
    "print(\"Duration in Seconds %7.3f\" % tnp2)"
   ]
  },
  {
   "cell_type": "code",
   "execution_count": 67,
   "id": "8b9f8e45",
   "metadata": {},
   "outputs": [],
   "source": [
    "S0 = 100 # initial value\n",
    "r = 0.05 # constant short rate\n",
    "sigma = 0.25 # constant volatility\n",
    "T = 2.0 # in years\n",
    "I = 10000 # number of random draws \n",
    "ST1=S0*np.exp((r-0.5*sigma**2)*T\n",
    "        + sigma * np.sqrt(T) * npr.standard_normal(I))"
   ]
  },
  {
   "cell_type": "code",
   "execution_count": 68,
   "id": "5d4df982",
   "metadata": {},
   "outputs": [
    {
     "data": {
      "image/png": "[encoded data removed]",
      "text/plain": [
       "<Figure size 432x288 with 1 Axes>"
      ]
     },
     "metadata": {
      "needs_background": "light"
     },
     "output_type": "display_data"
    }
   ],
   "source": [
    "plt.hist(ST1, bins=50) \n",
    "plt.xlabel('index level')\n",
    "plt.ylabel('frequency') \n",
    "plt.grid(True)"
   ]
  },
  {
   "cell_type": "code",
   "execution_count": null,
   "id": "85356799",
   "metadata": {},
   "outputs": [],
   "source": []
  }
 ],
 "metadata": {
  "kernelspec": {
   "display_name": "Python 3 (ipykernel)",
   "language": "python",
   "name": "python3"
  },
  "language_info": {
   "codemirror_mode": {
    "name": "ipython",
    "version": 3
   },
   "file_extension": ".py",
   "mimetype": "text/x-python",
   "name": "python",
   "nbconvert_exporter": "python",
   "pygments_lexer": "ipython3",
   "version": "3.9.7"
  }
 },
 "nbformat": 4,
 "nbformat_minor": 5
}
