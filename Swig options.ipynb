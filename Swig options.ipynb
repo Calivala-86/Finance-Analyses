{
 "cells": [
  {
   "cell_type": "code",
   "execution_count": 1,
   "id": "56084067",
   "metadata": {},
   "outputs": [],
   "source": [
    "import QuantLib as ql\n",
    "import math"
   ]
  },
  {
   "cell_type": "code",
   "execution_count": 2,
   "id": "3ab5d7ae",
   "metadata": {},
   "outputs": [
    {
     "name": "stdout",
     "output_type": "stream",
     "text": [
      "Black Scholes Price: 40.308978\n",
      "Kluge Model Price  : 40.022780\n"
     ]
    }
   ],
   "source": [
    "todaysDate = ql.Date(30, ql.September, 2018)\n",
    "ql.Settings.instance().evaluationDate = todaysDate\n",
    "settlementDate = todaysDate\n",
    "riskFreeRate = ql.FlatForward(settlementDate, 0.0, ql.Actual365Fixed())\n",
    "dividendYield = ql.FlatForward(settlementDate, 0.0, ql.Actual365Fixed())\n",
    "underlying = ql.SimpleQuote(30.0)\n",
    "volatility = ql.BlackConstantVol(todaysDate, ql.TARGET(), 0.20, ql.Actual365Fixed())\n",
    "\n",
    "\n",
    "exerciseDates = [ql.Date(1, ql.January, 2019) + i for i in range(31)]\n",
    "\n",
    "swingOption = ql.VanillaSwingOption(\n",
    "    ql.VanillaForwardPayoff(ql.Option.Call, underlying.value()), ql.SwingExercise(exerciseDates), 0, len(exerciseDates)\n",
    ")\n",
    "\n",
    "bsProcess = ql.BlackScholesMertonProcess(\n",
    "    ql.QuoteHandle(underlying),\n",
    "    ql.YieldTermStructureHandle(dividendYield),\n",
    "    ql.YieldTermStructureHandle(riskFreeRate),\n",
    "    ql.BlackVolTermStructureHandle(volatility),\n",
    ")\n",
    "\n",
    "swingOption.setPricingEngine(ql.FdSimpleBSSwingEngine(bsProcess))\n",
    "\n",
    "print(\"Black Scholes Price: %f\" % swingOption.NPV())\n",
    "\n",
    "x0 = 0.0\n",
    "x1 = 0.0\n",
    "\n",
    "beta = 4.0\n",
    "eta = 4.0\n",
    "jumpIntensity = 1.0\n",
    "speed = 1.0\n",
    "volatility = 0.1\n",
    "\n",
    "curveShape = []\n",
    "for d in exerciseDates:\n",
    "    t = ql.Actual365Fixed().yearFraction(todaysDate, d)\n",
    "    gs = (\n",
    "        math.log(underlying.value())\n",
    "        - volatility * volatility / (4 * speed) * (1 - math.exp(-2 * speed * t))\n",
    "        - jumpIntensity / beta * math.log((eta - math.exp(-beta * t)) / (eta - 1.0))\n",
    "    )\n",
    "    curveShape.append((t, gs))\n",
    "\n",
    "ouProcess = ql.ExtendedOrnsteinUhlenbeckProcess(speed, volatility, x0, lambda x: x0)\n",
    "jProcess = ql.ExtOUWithJumpsProcess(ouProcess, x1, beta, jumpIntensity, eta)\n",
    "\n",
    "swingOption.setPricingEngine(ql.FdSimpleExtOUJumpSwingEngine(jProcess, riskFreeRate, 25, 25, 200, curveShape))\n",
    "\n",
    "print(\"Kluge Model Price  : %f\" % swingOption.NPV())"
   ]
  },
  {
   "cell_type": "code",
   "execution_count": null,
   "id": "f6f634cc",
   "metadata": {},
   "outputs": [],
   "source": []
  }
 ],
 "metadata": {
  "kernelspec": {
   "display_name": "Python 3 (ipykernel)",
   "language": "python",
   "name": "python3"
  },
  "language_info": {
   "codemirror_mode": {
    "name": "ipython",
    "version": 3
   },
   "file_extension": ".py",
   "mimetype": "text/x-python",
   "name": "python",
   "nbconvert_exporter": "python",
   "pygments_lexer": "ipython3",
   "version": "3.9.7"
  }
 },
 "nbformat": 4,
 "nbformat_minor": 5
}
