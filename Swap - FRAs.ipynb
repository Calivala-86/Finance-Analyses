{
 "cells": [
  {
   "cell_type": "markdown",
   "id": "0456ea6c",
   "metadata": {},
   "source": [
    "# Lib"
   ]
  },
  {
   "cell_type": "code",
   "execution_count": 2,
   "id": "e72fd7f4",
   "metadata": {},
   "outputs": [],
   "source": [
    "import QuantLib as ql"
   ]
  },
  {
   "cell_type": "markdown",
   "id": "fc45fd42",
   "metadata": {},
   "source": [
    "# Global data"
   ]
  },
  {
   "cell_type": "code",
   "execution_count": 37,
   "id": "c98809dd",
   "metadata": {},
   "outputs": [],
   "source": [
    "# %%\n",
    "calendar = ql.TARGET()\n",
    "todaysDate = ql.Date(6, ql.November, 2001)\n",
    "ql.Settings.instance().evaluationDate = todaysDate\n",
    "settlementDate = ql.Date(8, ql.November, 2001)\n"
   ]
  },
  {
   "cell_type": "markdown",
   "id": "bac33c98",
   "metadata": {},
   "source": [
    "# Market quotes"
   ]
  },
  {
   "cell_type": "code",
   "execution_count": 38,
   "id": "1aafbeee",
   "metadata": {},
   "outputs": [],
   "source": [
    "# %%\n",
    "deposits = {\n",
    "    (3,ql.Months): 0.0363\n",
    "}\n",
    "\n",
    "# %%\n",
    "FRAs = {(3,6): 0.037125, (6,9): 0.037125, (9,12): 0.037125}\n",
    "\n",
    "# %%\n",
    "\n",
    "futures = {\n",
    "    ql.Date(19, 12, 2001): 96.2875,\n",
    "    ql.Date(20, 3, 2002): 96.7875,\n",
    "    ql.Date(19, 6, 2002): 96.9875,\n",
    "    ql.Date(18, 9, 2002): 96.6875,\n",
    "    ql.Date(18, 12, 2002): 96.4875,\n",
    "    ql.Date(19, 3, 2003): 96.3875,\n",
    "    ql.Date(18, 6, 2003): 96.2875,\n",
    "    ql.Date(17, 9, 2003): 96.0875,\n",
    "    \n",
    "}\n",
    "\n",
    "# %%\n",
    "swaps = {\n",
    "    (2, ql.Years): 0.037125,\n",
    "    (3, ql.Years): 0.0398,\n",
    "    (5, ql.Years): 0.0443,\n",
    "    (10, ql.Years): 0.05165,\n",
    "    (15, ql.Years): 0.055175,\n",
    "}\n"
   ]
  },
  {
   "cell_type": "markdown",
   "id": "13ec0863",
   "metadata": {},
   "source": [
    "# Converting to 'Quote' objects"
   ]
  },
  {
   "cell_type": "code",
   "execution_count": 39,
   "id": "60199dd6",
   "metadata": {},
   "outputs": [],
   "source": [
    "# %%\n",
    "for n, unit in deposits.keys():\n",
    "    deposits[(n, unit)] = ql.SimpleQuote(deposits[(n, unit)])\n",
    "for n, m in FRAs.keys():\n",
    "    FRAs[(n, m)] = ql.SimpleQuote(FRAs[(n, m)])\n",
    "for d in futures.keys():\n",
    "    futures[d] = ql.SimpleQuote(futures[d])\n",
    "for n, unit in swaps.keys():\n",
    "    swaps[(n, unit)] = ql.SimpleQuote(swaps[(n, unit)])"
   ]
  },
  {
   "cell_type": "markdown",
   "id": "7bb99ffc",
   "metadata": {},
   "source": [
    "# Build Rate helpers"
   ]
  },
  {
   "cell_type": "code",
   "execution_count": 40,
   "id": "7cc4e5d2",
   "metadata": {},
   "outputs": [],
   "source": [
    "# %%\n",
    "dayCounter = ql.Actual360()\n",
    "settlementDays = 2\n",
    "depositHelpers = [\n",
    "    ql.DepositRateHelper(\n",
    "        ql.QuoteHandle(deposits[(n, unit)]),\n",
    "        ql.Period(n, unit),\n",
    "        settlementDays,\n",
    "        calendar,\n",
    "        ql.ModifiedFollowing,\n",
    "        False,\n",
    "        dayCounter,\n",
    "    )\n",
    "    for n, unit in deposits.keys()\n",
    "]\n",
    "\n",
    "# %%\n",
    "dayCounter = ql.Actual360()\n",
    "settlementDays = 2\n",
    "fraHelpers = [\n",
    "    ql.FraRateHelper(\n",
    "        ql.QuoteHandle(FRAs[(n, m)]), n, m, settlementDays, calendar, ql.ModifiedFollowing, False, dayCounter\n",
    "    )\n",
    "    for n, m in FRAs.keys()\n",
    "]\n",
    "\n",
    "# %%\n",
    "dayCounter = ql.Actual360()\n",
    "months = 3\n",
    "futuresHelpers = [\n",
    "    ql.FuturesRateHelper(\n",
    "        ql.QuoteHandle(futures[d]),\n",
    "        d,\n",
    "        months,\n",
    "        calendar,\n",
    "        ql.ModifiedFollowing,\n",
    "        True,\n",
    "        dayCounter,\n",
    "        ql.QuoteHandle(ql.SimpleQuote(0.0)),\n",
    "    )\n",
    "    for d in futures.keys()\n",
    "]"
   ]
  },
  {
   "cell_type": "markdown",
   "id": "d93b226b",
   "metadata": {},
   "source": [
    "# The discount curve for the swaps will come from elsewhere. A real application would use some kind of risk-free curve; here we're using a flat one for convenience."
   ]
  },
  {
   "cell_type": "code",
   "execution_count": 41,
   "id": "49730fed",
   "metadata": {},
   "outputs": [],
   "source": [
    "# %%\n",
    "discountTermStructure = ql.YieldTermStructureHandle(\n",
    "    ql.FlatForward(settlementDate, 0.04, ql.Actual360()))\n",
    "\n",
    "# %%\n",
    "settlementDays = 2\n",
    "fixedLegFrequency = ql.Annual\n",
    "fixedLegTenor = ql.Period(1, ql.Years)\n",
    "fixedLegAdjustment = ql.Unadjusted\n",
    "fixedLegDayCounter = ql.Thirty360(ql.Thirty360.BondBasis)\n",
    "floatingLegFrequency = ql.Quarterly\n",
    "floatingLegTenor = ql.Period(3, ql.Months)\n",
    "floatingLegAdjustment = ql.ModifiedFollowing\n",
    "swapHelpers = [\n",
    "    ql.SwapRateHelper(\n",
    "        ql.QuoteHandle(swaps[(n, unit)]),\n",
    "        ql.Period(n, unit),\n",
    "        calendar,\n",
    "        fixedLegFrequency,\n",
    "        fixedLegAdjustment,\n",
    "        fixedLegDayCounter,\n",
    "        ql.Euribor3M(),\n",
    "        ql.QuoteHandle(),\n",
    "        ql.Period(\"0D\"),\n",
    "        discountTermStructure,\n",
    "    )\n",
    "    for n, unit in swaps.keys()\n",
    "]"
   ]
  },
  {
   "cell_type": "markdown",
   "id": "5b23e80a",
   "metadata": {},
   "source": [
    "# Term structure construction"
   ]
  },
  {
   "cell_type": "code",
   "execution_count": 42,
   "id": "79cbcd88",
   "metadata": {},
   "outputs": [],
   "source": [
    "# %%\n",
    "forecastTermStructure = ql.RelinkableYieldTermStructureHandle()\n",
    "\n",
    "# %%\n",
    "helpers = depositHelpers + futuresHelpers + swapHelpers[1:]\n",
    "depoFuturesSwapCurve = ql.PiecewiseFlatForward(settlementDate, helpers, ql.Actual360())\n",
    "\n",
    "# %%\n",
    "helpers = depositHelpers + fraHelpers + swapHelpers\n",
    "depoFraSwapCurve = ql.PiecewiseFlatForward(settlementDate, helpers, ql.Actual360())\n"
   ]
  },
  {
   "cell_type": "markdown",
   "id": "e75953a7",
   "metadata": {},
   "source": [
    "# Swap pricing"
   ]
  },
  {
   "cell_type": "code",
   "execution_count": 43,
   "id": "55b0d519",
   "metadata": {},
   "outputs": [],
   "source": [
    "\n",
    "# %%\n",
    "swapEngine = ql.DiscountingSwapEngine(discountTermStructure)\n",
    "\n",
    "# %%\n",
    "nominal = 1000000\n",
    "length = 5\n",
    "maturity = calendar.advance(settlementDate, length, ql.Years)\n",
    "payFixed = True\n",
    "\n",
    "# %%\n",
    "fixedLegFrequency = ql.Annual\n",
    "fixedLegAdjustment = ql.Unadjusted\n",
    "fixedLegDayCounter = ql.Thirty360(ql.Thirty360.BondBasis)\n",
    "fixedRate = 0.04\n",
    "\n",
    "# %%\n",
    "floatingLegFrequency = ql.Quarterly\n",
    "spread = 0.0\n",
    "fixingDays = 2\n",
    "index = ql.Euribor3M(forecastTermStructure)\n",
    "floatingLegAdjustment = ql.ModifiedFollowing\n",
    "floatingLegDayCounter = index.dayCounter()\n",
    "\n",
    "# %%\n",
    "fixedSchedule = ql.Schedule(\n",
    "    settlementDate,\n",
    "    maturity,\n",
    "    fixedLegTenor,\n",
    "    calendar,\n",
    "    fixedLegAdjustment,\n",
    "    fixedLegAdjustment,\n",
    "    ql.DateGeneration.Forward,\n",
    "    False,\n",
    ")\n",
    "floatingSchedule = ql.Schedule(\n",
    "    settlementDate,\n",
    "    maturity,\n",
    "    floatingLegTenor,\n",
    "    calendar,\n",
    "    floatingLegAdjustment,\n",
    "    floatingLegAdjustment,\n",
    "    ql.DateGeneration.Forward,\n",
    "    False,\n",
    ")"
   ]
  },
  {
   "cell_type": "markdown",
   "id": "3e9aecfe",
   "metadata": {},
   "source": [
    "# We'll build a 5-years swap starting spot"
   ]
  },
  {
   "cell_type": "code",
   "execution_count": 44,
   "id": "bd90e3f0",
   "metadata": {},
   "outputs": [],
   "source": [
    "# %%\n",
    "spot = ql.VanillaSwap(\n",
    "    ql.Swap.Payer,\n",
    "    nominal,\n",
    "    fixedSchedule,\n",
    "    fixedRate,\n",
    "    fixedLegDayCounter,\n",
    "    floatingSchedule,\n",
    "    index,\n",
    "    spread,\n",
    "    floatingLegDayCounter,\n",
    ")\n",
    "spot.setPricingEngine(swapEngine)"
   ]
  },
  {
   "cell_type": "markdown",
   "id": "c6cf9b5a",
   "metadata": {},
   "source": [
    "# ...and one starting 1 year forward."
   ]
  },
  {
   "cell_type": "code",
   "execution_count": 45,
   "id": "c3ae8490",
   "metadata": {},
   "outputs": [],
   "source": [
    "# %%\n",
    "forwardStart = calendar.advance(settlementDate, 1, ql.Years)\n",
    "forwardEnd = calendar.advance(forwardStart, length, ql.Years)\n",
    "fixedSchedule = ql.Schedule(\n",
    "    forwardStart,\n",
    "    forwardEnd,\n",
    "    fixedLegTenor,\n",
    "    calendar,\n",
    "    fixedLegAdjustment,\n",
    "    fixedLegAdjustment,\n",
    "    ql.DateGeneration.Forward,\n",
    "    False,\n",
    ")\n",
    "floatingSchedule = ql.Schedule(\n",
    "    forwardStart,\n",
    "    forwardEnd,\n",
    "    floatingLegTenor,\n",
    "    calendar,\n",
    "    floatingLegAdjustment,\n",
    "    floatingLegAdjustment,\n",
    "    ql.DateGeneration.Forward,\n",
    "    False,\n",
    ")\n",
    "\n",
    "# %%\n",
    "forward = ql.VanillaSwap(\n",
    "    ql.Swap.Payer,\n",
    "    nominal,\n",
    "    fixedSchedule,\n",
    "    fixedRate,\n",
    "    fixedLegDayCounter,\n",
    "    floatingSchedule,\n",
    "    index,\n",
    "    spread,\n",
    "    floatingLegDayCounter,\n",
    ")\n",
    "forward.setPricingEngine(swapEngine)"
   ]
  },
  {
   "cell_type": "markdown",
   "id": "a1e361ce",
   "metadata": {},
   "source": [
    "# We'll price them both on the bootstrapped curves."
   ]
  },
  {
   "cell_type": "code",
   "execution_count": 46,
   "id": "0061abf2",
   "metadata": {},
   "outputs": [
    {
     "name": "stdout",
     "output_type": "stream",
     "text": [
      "0.0443\n"
     ]
    }
   ],
   "source": [
    "# This is the quoted 5-years market rate; we expect the fair rate of the spot swap to match it.\n",
    "\n",
    "# %%\n",
    "print(swaps[(5, ql.Years)].value())\n",
    "\n",
    "# %%\n",
    "def show(swap):\n",
    "    print(\"NPV         = %.2f\" % swap.NPV())\n",
    "    print(\"Fair spread = %.4f %%\" % (swap.fairSpread()*100))\n",
    "    print(\"Fair rate   =  %.4f %%\" % (swap.fairRate()*100))\n"
   ]
  },
  {
   "cell_type": "code",
   "execution_count": 49,
   "id": "a7b23315",
   "metadata": {},
   "outputs": [
    {
     "name": "stdout",
     "output_type": "stream",
     "text": [
      "NPV         = 26604.08\n",
      "Fair spread = -0.5825 %\n",
      "Fair rate   =  4.6000 %\n",
      "NPV         = 26604.08\n",
      "Fair spread = -0.5825 %\n",
      "Fair rate   =  4.6000 %\n",
      "NPV         = 46439.43\n",
      "Fair spread = -1.0588 %\n",
      "Fair rate   =  5.0907 %\n",
      "NPV         = 43050.66\n",
      "Fair spread = -0.9815 %\n",
      "Fair rate   =  5.0111 %\n",
      "NPV         = 26604.08\n",
      "Fair spread = -0.5825 %\n",
      "Fair rate   =  4.6000 %\n",
      "NPV         = 46439.43\n",
      "Fair spread = -1.0588 %\n",
      "Fair rate   =  5.0907 %\n",
      "NPV         = 26604.08\n",
      "Fair spread = -0.5825 %\n",
      "Fair rate   =  4.6000 %\n",
      "NPV         = 43050.66\n",
      "Fair spread = -0.9815 %\n",
      "Fair rate   =  5.0111 %\n"
     ]
    }
   ],
   "source": [
    "# These are the results for the 5-years spot swap on the deposit/futures/swap curve...\n",
    "\n",
    "# %%\n",
    "forecastTermStructure.linkTo(depoFuturesSwapCurve)\n",
    "show(spot)\n",
    "\n",
    "# ...and these are on the deposit/fra/swap curve.\n",
    "\n",
    "# %%\n",
    "forecastTermStructure.linkTo(depoFraSwapCurve)\n",
    "show(spot)\n",
    "\n",
    "# The same goes for the 1-year forward swap, except for the fair rate not matching the spot rate.\n",
    "\n",
    "# %%\n",
    "forecastTermStructure.linkTo(depoFuturesSwapCurve)\n",
    "show(forward)\n",
    "\n",
    "# %%\n",
    "forecastTermStructure.linkTo(depoFraSwapCurve)\n",
    "show(forward)\n",
    "\n",
    "# Modifying the 5-years swap rate and repricing will change the results:\n",
    "\n",
    "# %%\n",
    "swaps[(5, ql.Years)].setValue(0.046)\n",
    "\n",
    "# %%\n",
    "forecastTermStructure.linkTo(depoFuturesSwapCurve)\n",
    "\n",
    "# %%\n",
    "forecastTermStructure.linkTo(depoFuturesSwapCurve)\n",
    "\n",
    "# %%\n",
    "show(spot)\n",
    "\n",
    "# %%\n",
    "show(forward)\n",
    "\n",
    "# %%\n",
    "forecastTermStructure.linkTo(depoFraSwapCurve)\n",
    "\n",
    "# %%\n",
    "show(spot)\n",
    "\n",
    "# %%\n",
    "show(forward)"
   ]
  },
  {
   "cell_type": "code",
   "execution_count": null,
   "id": "59d83370",
   "metadata": {},
   "outputs": [],
   "source": []
  },
  {
   "cell_type": "code",
   "execution_count": null,
   "id": "043d4268",
   "metadata": {},
   "outputs": [],
   "source": []
  }
 ],
 "metadata": {
  "kernelspec": {
   "display_name": "Python 3 (ipykernel)",
   "language": "python",
   "name": "python3"
  },
  "language_info": {
   "codemirror_mode": {
    "name": "ipython",
    "version": 3
   },
   "file_extension": ".py",
   "mimetype": "text/x-python",
   "name": "python",
   "nbconvert_exporter": "python",
   "pygments_lexer": "ipython3",
   "version": "3.9.7"
  }
 },
 "nbformat": 4,
 "nbformat_minor": 5
}
