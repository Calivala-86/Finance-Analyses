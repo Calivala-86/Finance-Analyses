{
 "cells": [
  {
   "cell_type": "code",
   "execution_count": 2,
   "id": "65efff24",
   "metadata": {},
   "outputs": [],
   "source": [
    "import numpy as np\n",
    "import traits.api as trapi \n",
    "import traitsui.api as trui\n",
    "\n",
    "import warnings\n",
    "warnings.filterwarnings('ignore')"
   ]
  },
  {
   "cell_type": "code",
   "execution_count": 3,
   "id": "1ed15556",
   "metadata": {},
   "outputs": [],
   "source": [
    "class cash_flow_series(trapi.HasTraits): \n",
    "    name = trapi.Str\n",
    "    short_rate = trapi.Range(0.0, 0.5, 0.05)\n",
    "    time_list = trapi.Array(dtype=np.float, shape=(1, 6)) \n",
    "    cash_flows = trapi.Array(dtype=np.float, shape=(1, 6)) \n",
    "    disc_values = trapi.Array(dtype=np.float, shape=(1, 6)) \n",
    "    present_values = trapi.Array(dtype=np.float, shape=(1, 6)) \n",
    "    net_present_value = trapi.Float\n",
    "\n",
    "    update = trapi.Button\n",
    "\n",
    "    def _update_fired(self):\n",
    "        self.disc_values = np.exp(-self.short_rate * self.time_list) \n",
    "        self.present_values = self.disc_values * self.cash_flows \n",
    "        self.net_present_value = np.sum(self.present_values)\n",
    "\n",
    "    v = trui.View(trui.Group(trui.Item(name = 'name'),\n",
    "    trui.Item(name='short_rate'), \n",
    "    trui.Item(name='time_list', label='Time List'), \n",
    "    trui.Item(name='cash_flows', label='Cash Flows'), \n",
    "    trui.Item('update', show_label=False), \n",
    "    trui.Item(name='disc_values',\n",
    "              label='Discount Factors'),\n",
    "    trui.Item(name='present_values',\n",
    "              label='Present Values'),\n",
    "    trui.Item(name='net_present_value',\n",
    "              label='Net Present Value'), \n",
    "    show_border=True, label='Calculate Present Values'), \n",
    "    buttons = [trui.OKButton,trui.CancelButton], \n",
    "    resizable = True)"
   ]
  },
  {
   "cell_type": "code",
   "execution_count": 4,
   "id": "8e61f505",
   "metadata": {},
   "outputs": [
    {
     "data": {
      "text/plain": [
       "False"
      ]
     },
     "execution_count": 4,
     "metadata": {},
     "output_type": "execute_result"
    }
   ],
   "source": [
    "cfs = cash_flow_series()\n",
    "cfs.configure_traits()"
   ]
  },
  {
   "cell_type": "code",
   "execution_count": null,
   "id": "62329545",
   "metadata": {},
   "outputs": [],
   "source": []
  },
  {
   "cell_type": "code",
   "execution_count": null,
   "id": "ee670c30",
   "metadata": {},
   "outputs": [],
   "source": []
  }
 ],
 "metadata": {
  "kernelspec": {
   "display_name": "Python 3 (ipykernel)",
   "language": "python",
   "name": "python3"
  },
  "language_info": {
   "codemirror_mode": {
    "name": "ipython",
    "version": 3
   },
   "file_extension": ".py",
   "mimetype": "text/x-python",
   "name": "python",
   "nbconvert_exporter": "python",
   "pygments_lexer": "ipython3",
   "version": "3.9.7"
  }
 },
 "nbformat": 4,
 "nbformat_minor": 5
}
